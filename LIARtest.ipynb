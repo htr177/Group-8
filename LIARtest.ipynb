{
 "cells": [
  {
   "cell_type": "code",
   "execution_count": 1,
   "metadata": {},
   "outputs": [],
   "source": [
    "import pandas as pd\n",
    "import numpy as np\n",
    "from sklearn.feature_extraction.text import TfidfVectorizer\n",
    "from sklearn.model_selection import train_test_split"
   ]
  },
  {
   "cell_type": "code",
   "execution_count": 2,
   "metadata": {},
   "outputs": [
    {
     "name": "stderr",
     "output_type": "stream",
     "text": [
      "C:\\Users\\Peter\\AppData\\Local\\Temp\\ipykernel_3884\\2425558278.py:1: DtypeWarning: Columns (3) have mixed types. Specify dtype option on import or set low_memory=False.\n",
      "  df = pd.read_csv('C:/Users/Peter/Documents/Coding/newDS/df2_clean_tok_stop_stem.csv', usecols=['content', 'type'])\n"
     ]
    }
   ],
   "source": [
    "df = pd.read_csv('C:/Users/Peter/Documents/Coding/newDS/df2_clean_tok_stop_stem.csv', usecols=['content', 'type'])"
   ]
  },
  {
   "cell_type": "code",
   "execution_count": 8,
   "metadata": {},
   "outputs": [],
   "source": [
    "df['label'] = df['type'].apply(lambda x: 1 if x in ['fake', 'conspiracy', 'junksci', 'hate', 'unreliable', 'rumor'] else 0)"
   ]
  },
  {
   "cell_type": "code",
   "execution_count": 9,
   "metadata": {},
   "outputs": [],
   "source": [
    "#create a variable of df['content'] and df['label'] for the model\n",
    "X = df['content']\n",
    "y = df['label']\n",
    "\n",
    "#make train and test and validation sets with 80 10 10 split\n",
    "X_train, X_test, y_train, y_test = train_test_split(X, y, test_size=0.2, random_state=42)\n",
    "X_test, X_val, y_test, y_val = train_test_split(X_test, y_test, test_size=0.5, random_state=42)\n",
    "\n",
    "# initialize the TfidfVectorizer with CountVectorizer as its tokenizer\n",
    "tfidf = TfidfVectorizer(tokenizer=None)\n",
    "\n",
    "# fit and transform the documents\n",
    "tfidf_matrix = tfidf.fit_transform(X_train)"
   ]
  },
  {
   "cell_type": "code",
   "execution_count": null,
   "metadata": {},
   "outputs": [],
   "source": [
    "#load the liar dataset\n",
    "dfliar = pd.read_csv('C:/Users/Peter/Documents/Coding/newDS/liar_dataset/train.tsv')"
   ]
  },
  {
   "cell_type": "code",
   "execution_count": 4,
   "metadata": {},
   "outputs": [
    {
     "name": "stdout",
     "output_type": "stream",
     "text": [
      "2608729\n"
     ]
    }
   ],
   "source": [
    "unique_words = set()\n",
    "for article in df['content']:\n",
    "    unique_words.update(article.split())\n",
    "print(len(unique_words))"
   ]
  },
  {
   "cell_type": "code",
   "execution_count": 7,
   "metadata": {},
   "outputs": [
    {
     "name": "stdout",
     "output_type": "stream",
     "text": [
      "[\"['search',\", \"'support',\", \"'surveil',\", \"'juli',\", \"'princ',\", \"'harri',\", \"'took',\", \"'hiv',\", \"'test',\", \"'live',\", \"'facebook',\", \"'repres',\", \"'terrenc',\", \"'higgin',\", \"'trust',\", \"'ukbas',\", \"'aid',\", \"'servic',\", \"'organ',\", \"'princ',\", \"'test',\", \"'sent',\", \"'clear',\", \"'messag',\", \"'test',\", \"'hiv',\", \"'easi',\", \"'quick',\", \"'noth',\", \"'fearednumb',\", \"'royal',\", \"'test',\", \"'latest',\", \"'instanc',\", \"'long',\", \"'success',\", \"'line',\", \"'public',\", \"'effort',\", \"'reduc',\", \"'stigma',\", \"'around',\", \"'hiv',\", \"'test',\", \"'today',\", \"'test',\", \"'near',\", \"'unquestion',\", \"'aspect',\", \"'hiv',\", \"'care',\", \"'aid',\", \"'servic',\", \"'organ',\", \"'epect',\", \"'administ',\", \"'test',\", \"'protest',\", \"'advertis',\", \"'ubiquit',\", \"'test',\", \"'institution',\", \"'condom',\", \"'red',\", \"'ribbon',\", \"'world',\", \"'hiv',\", \"'treatment',\", \"'cure',\", \"'test',\", \"'lifesav',\", \"'measur',\", \"'earlier',\", \"'someon',\", \"'live',\", \"'virus',\", \"'get',\", \"'treatment',\", \"'stori',\", \"'goe',\", \"'better',\", \"'longterm',\", \"'health',\", \"'outcom',\", \"'hiv',\", \"'test',\", \"'help',\", \"'teste',\", \"'maintain',\", \"'negat',\", \"'result',\", \"'link',\", \"'someon',\", \"'test',\", \"'posit',\", \"'care',\", \"'era',\", \"'shift',\", \"'hiv',\", \"'fund',\", \"'test',\", \"'open',\", \"'pocket',\", \"'money',\", \"'asid',\", \"'individu',\", \"'horror',\", \"'stori',\", \"'often',\", \"'includ',\", \"'slutsham',\", \"'servic',\", \"'provid',\", \"'rational',\", \"'test',\", \"'goe',\", \"'unchalleng',\", \"'histor',\", \"'impuls',\", \"'test',\", \"'ignor',\", \"'valu',\", \"'posit',\", \"'result',\", \"'sacrosanct',\", \"'activist',\", \"'loren',\", \"'jone',\", \"'board',\", \"'member',\", \"'posit',\", \"'women',\", \"'network',\", \"'usa',\", \"'group',\", \"'work',\", \"'strengthen',\", \"'power',\", \"'women',\", \"'live',\", \"'hiv',\", \"'jone',\", \"'test',\", \"'posit',\", \"'homeless',\", \"'live',\", \"'communiti',\", \"'similar',\", \"'margin',\", \"'folk',\", \"'earli',\", \"'life',\", \"'hiv',\", \"'made',\", \"'decis',\", \"'tell',\", \"'anyon',\", \"'could',\", \"'afford',\", \"'lose',\", \"'littl',\", \"'term',\", \"'companion',\", \"'lover',\", \"'besid',\", \"'healthi',\", \"'realli',\", \"'trust',\", \"'societi',\", \"'medic',\", \"'profess',\", \"'didnt',\", \"'realli',\", \"'like',\", \"'peopl',\", \"'like',\", \"'us',\", \"'anywaynumb',\", \"'jone',\", \"'alon',\", \"'distrust',\", \"'begin',\", \"'test',\", \"'never',\", \"'sole',\", \"'provid',\", \"'care',\", \"'alongsid',\", \"'care',\", \"'beneath',\", \"'guis',\", \"'hiv',\", \"'test',\", \"'control',\", \"'contain',\", \"'surveil',\", \"'subject',\", \"'number',\", \"'earli',\", \"'aid',\", \"'epidem',\", \"'us',\", \"'food',\", \"'drug',\", \"'administr',\", \"'fda',\", \"'implement',\", \"'blood',\", \"'ban',\", \"'pressur',\", \"'research',\", \"'develop',\", \"'tool',\", \"'screen',\", \"'hi',\", \"'virus',\", \"'number',\", \"'fda',\", \"'approv',\", \"'enzymelink',\", \"'immunosorb',\", \"'assay',\", \"'elisa',\", \"'test',\", \"'screen',\", \"'nation',\", \"'blood',\", \"'suppli',\", \"'commenc',\", \"'within',\", \"'month',\", \"'us',\", \"'depart',\", \"'defens',\", \"'becam',\", \"'first',\", \"'institut',\", \"'countri',\", \"'implement',\", \"'hiv',\", \"'test',\", \"'program',\", \"'test',\", \"'arm',\", \"'forc',\", \"'personnel',\", \"'discharg',\", \"'test',\", \"'posit',\", \"'despit',\", \"'dod',\", \"'awar',\", \"'larg',\", \"'number',\", \"'fals',\", \"'posit',\", \"'peopl',\", \"'live',\", \"'hiv',\", \"'love',\", \"'one',\", \"'hiv',\", \"'activist',\", \"'other',\", \"'alreadi',\", \"'respond',\", \"'virus',\", \"'government',\", \"'turn',\", \"'toward',\", \"'test',\", \"'signal',\", \"'move',\", \"'wrong',\", \"'direct',\", \"'member',\", \"'presidenti',\", \"'commiss',\", \"'aid',\", \"'creat',\", \"'number',\", \"'worri',\", \"'test',\", \"'littl',\", \"'help',\", \"'posit',\", \"'result',\", \"'especi',\", \"'face',\", \"'effect',\", \"'treatment',\", \"'high',\", \"'polar',\", \"'surgeon',\", \"'general',\", \"'c',\", \"'everett',\", \"'koop',\", \"'said',\", \"'test',\", \"'compel',\", \"'infect',\", \"'aid',\", \"'virus',\", \"'go',\", \"'underground',\", \"'mainstream',\", \"'health',\", \"'care',\", \"'educationnumb',\", \"'number',\", \"'surgeon',\", \"'general',\", \"'report',\", \"'aid',\", \"'washington',\", \"'dc',\", \"'us',\", \"'public',\", \"'health',\", \"'servic',\", \"'number',\", \"'number',\", \"'number',\", \"'nation',\", \"'gay',\", \"'lesbian',\", \"'task',\", \"'forc',\", \"'news',\", \"'releas',\", \"'washington',\", \"'dc',\", \"'number',\", \"'februari',\", \"'number',\", \"'nation',\", \"'lesbian',\", \"'gay',\", \"'task',\", \"'forc',\", \"'frame',\", \"'hiv',\", \"'test',\", \"'len',\", \"'civil',\", \"'liberti',\", \"'argu',\", \"'one',\", \"'forc',\", \"'posit',\", \"'particular',\", \"'given',\", \"'potenti',\", \"'sever',\", \"'social',\", \"'legal',\", \"'econom',\", \"'ramif',\", \"'test',\", \"'perhap',\", \"'due',\", \"'less',\", \"'fraught',\", \"'relationship',\", \"'medic',\", \"'establish',\", \"'gay',\", \"'men',\", \"'start',\", \"'get',\", \"'test',\", \"'hivimpact',\", \"'communiti',\", \"'haitian',\", \"'drug',\", \"'user',\", \"'time',\", \"'one',\", \"'could',\", \"'fire',\", \"'sames',\", \"'desir',\", \"'teste',\", \"'willing',\", \"'particip',\", \"'shock',\", \"'confidenti',\", \"'subcommitte',\", \"'aidsbas',\", \"'coalit',\", \"'new',\", \"'york',\", \"'aid',\", \"'network',\", \"'accord',\", \"'subcommitte',\", \"'never',\", \"'mani',\", \"'gay',\", \"'men',\", \"'will',\", \"'offer',\", \"'much',\", \"'inform',\", \"'lifestyl',\", \"'govern',\", \"'researcherscan',\", \"'certain',\", \"'cdc',\", \"'would',\", \"'share',\", \"'informationnumb',\", \"'number',\", \"'chris',\", \"'collin',\", \"'et',\", \"'al',\", \"'know',\", \"'us',\", \"'new',\", \"'york',\", \"'nativ',\", \"'june',\", \"'number',\", \"'number',\", \"'increas',\", \"'talk',\", \"'mandatori',\", \"'test',\", \"'highrisk',\", \"'group',\", \"'gay',\", \"'men',\", \"'drug',\", \"'user',\", \"'amplifi',\", \"'fear',\", \"'iron',\", \"'two',\", \"'high',\", \"'stigmat',\", \"'communiti',\", \"'alreadi',\", \"'autonom',\", \"'implement',\", \"'harmreduct',\", \"'procedur',\", \"'mid1980',\", \"'earli',\", \"'number',\", \"'public',\", \"'se',\", \"'epidem',\", \"'one',\", \"'approach',\", \"'safer',\", \"'se',\", \"'activ',\", \"'promot',\", \"'within',\", \"'gay',\", \"'communiti',\", \"'number',\", \"'drug',\", \"'user',\", \"'open',\", \"'one',\", \"'earliest',\", \"'us',\", \"'needl',\", \"'echang',\", \"'program',\", \"'new',\", \"'connecticut',\", \"'open',\", \"'folk',\", \"'within',\", \"'drug',\", \"'use',\", \"'communiti',\", \"'impact',\", \"'communiti',\", \"'develop',\", \"'solut',\", \"'need',\", \"'support',\", \"'topdown',\", \"'intervent',\", \"'presid',\", \"'ronald',\", \"'reagan',\", \"'number',\", \"'speech',\", \"'devot',\", \"'hivaid',\", \"'laid',\", \"'groundwork',\", \"'current',\", \"'era',\", \"'control',\", \"'contain',\", \"'surveil',\", \"'aid',\", \"'surreptiti',\", \"'spread',\", \"'throughout',\", \"'popul',\", \"'yet',\", \"'accur',\", \"'measur',\", \"'scope',\", \"'time',\", \"'knew',\", \"'eact',\", \"'face',\", \"'support',\", \"'routin',\", \"'test',\", \"'analysi',\", \"'speech',\", \"'historian',\", \"'jennif',\", \"'brier',\", \"'remark',\", \"'languag',\", \"'eerili',\", \"'reminisc',\", \"'cold',\", \"'war',\", \"'fight',\", \"'soviet',\", \"'union',\", \"'communism',\", \"'reagan',\", \"'want',\", \"'stop',\", \"'surreptiti',\", \"'invas',\", \"'find',\", \"'peopl',\", \"'test',\", \"'posit',\", \"'hivnumb',\", \"'number',\", \"'jennif',\", \"'brier',\", \"'infecti',\", \"'idea',\", \"'us',\", \"'polit',\", \"'respons',\", \"'aid',\", \"'crisi',\", \"'chapel',\", \"'hill',\", \"'unc',\", \"'press',\", \"'number',\", \"'number',\", \"'within',\", \"'month',\", \"'reagan',\", \"'speech',\", \"'congress',\", \"'vote',\", \"'screen',\", \"'everyon',\", \"'enter',\", \"'us',\", \"'turn',\", \"'away',\", \"'test',\", \"'posit',\", \"'hiv',\", \"'diseas',\", \"'year',\", \"'reagan',\", \"'speech',\", \"'new',\", \"'york',\", \"'time',\", \"'publish',\", \"'ope',\", \"'william',\", \"'f',\", \"'buckley',\", \"'jr',\", \"'call',\", \"'peopl',\", \"'live',\", \"'hiv',\", \"'tattoo',\", \"'peopl',\", \"'saw',\", \"'one',\", \"'step',\", \"'away',\", \"'call',\", \"'quarantin',\", \"'idea',\", \"'accord',\", \"'number',\", \"'los',\", \"'angel',\", \"'time',\", \"'poll',\", \"'number',\", \"'percent',\", \"'american',\", \"'support',\", \"'mani',\", \"'way',\", \"'quarantin',\", \"'alreadi',\", \"'occur',\", \"'hospit',\", \"'peopl',\", \"'live',\", \"'hiv',\", \"'suffer',\", \"'filth',\", \"'hunger',\", \"'staff',\", \"'refus',\", \"'enter',\", \"'room',\", \"'case',\", \"'region',\", \"'health',\", \"'depart',\", \"'went',\", \"'far',\", \"'remov',\", \"'isol',\", \"'peopl',\", \"'live',\", \"'hiv',\", \"'general',\", \"'popul',\", \"'test',\", \"'alway',\", \"'insepar',\", \"'isol',\", \"'logic',\", \"'topdown',\", \"'hivaid',\", \"'treatment',\", \"'first',\", \"'identifi',\", \"'person',\", \"'live',\", \"'virus',\", \"'separ',\", \"'social',\", \"'econom',\", \"'case',\", \"'physic',\", \"'earli',\", \"'year',\", \"'impact',\", \"'communiti',\", \"'know',\", \"'one',\", \"'status',\", \"'even',\", \"'priority7',\", \"'posit',\", \"'test',\", \"'result',\", \"'necessarili',\", \"'improv',\", \"'teste',\", \"'health',\", \"'like',\", \"'someon',\", \"'test',\", \"'posit',\", \"'1980s',\", \"'would',\", \"'pressur',\", \"'take',\", \"'azt',\", \"'medic',\", \"'dose',\", \"'prescrib',\", \"'often',\", \"'made',\", \"'peopl',\", \"'feel',\", \"'sicker',\", \"'writer',\", \"'archivist',\", \"'sur',\", \"'rodney',\", \"'left',\", \"'lucrat',\", \"'futur',\", \"'art',\", \"'world',\", \"'care',\", \"'friend',\", \"'see',\", \"'point',\", \"'test',\", \"'like',\", \"'mani',\", \"'assum',\", \"'posit',\", \"'thing',\", \"'everyon',\", \"'die',\", \"'year',\", \"'later',\", \"'got',\", \"'test',\", \"'came',\", \"'back',\", \"'negat',\", \"'assum',\", \"'virus',\", \"'somehow',\", \"'undetect',\", \"'result',\", \"'show',\", \"'fals',\", \"'negat',\", \"'sur',\", \"'live',\", \"'posit',\", \"'journal',\", \"'artist',\", \"'author',\", \"'gari',\", \"'fisher',\", \"'wrote',\", \"'se',\", \"'race',\", \"'famili',\", \"'awar',\", \"'like',\", \"'live',\", \"'virus',\", \"'number',\", \"'wrote',\", \"'tell',\", \"'editor',\", \"'queer',\", \"'theorist',\", \"'eve',\", \"'kosofski',\", \"'sedgwick',\", \"'think',\", \"'arc',\", \"'aidsrel',\", \"'compl',\", \"'earli',\", \"'name',\", \"'aid',\", \"'freed',\", \"'write',\", \"'let',\", \"'loos',\", \"'wonder',\", \"'fisher',\", \"'diagnosi',\", \"'neither',\", \"'goal',\", \"'end',\", \"'goal',\", \"'connect',\", \"'fisher',\", \"'final',\", \"'publish',\", \"'entri',\", \"'muse',\", \"'number',\", \"'million',\", \"'peopl',\", \"'end',\", \"'decad',\", \"'im',\", \"'good',\", \"'compani',\", \"'im',\", \"'plenti',\", \"'compani',\", \"'im',\", \"'less',\", \"'afraid',\", \"'big',\", \"'big',\", \"'room',\", \"'full',\", \"'everyon',\", \"'hope',\", \"'im',\", \"'surenumb',\", \"'number',\", \"'gari',\", \"'fisher',\", \"'journal',\", \"'notebook',\", \"'gari',\", \"'pocket',\", \"'stori',\", \"'notebook',\", \"'gari',\", \"'fisher',\", \"'ed',\", \"'eve',\", \"'kosofski',\", \"'durham',\", \"'duke',\", \"'univers',\", \"'press',\", \"'number',\", \"'number',\", \"'grassroot',\", \"'respons',\", \"'hiv',\", \"'emerg',\", \"'creation',\", \"'mainten',\", \"'inform',\", \"'network',\", \"'friend',\", \"'activist',\", \"'caregiv',\", \"'die',\", \"'lover',\", \"'mani',\", \"'other',\", \"'sweet',\", \"'compl',\", \"'relat',\", \"'life',\", \"'hiv',\", \"'encompass',\", \"'involv',\", \"'regardless',\", \"'yet',\", \"'respect',\", \"'status',\", \"'differ',\", \"'topdown',\", \"'pressur',\", \"'institut',\", \"'test',\", \"'displac',\", \"'impact',\", \"'communiti',\", \"'treatment',\", \"'practic',\", \"'aid',\", \"'respons',\", \"'profession',\", \"'individualist',\", \"'logic',\", \"'domin',\", \"'governmentsponsor',\", \"'initi',\", \"'eclips',\", \"'epidem',\", \"'communal',\", \"'certain',\", \"'bodi',\", \"'mark',\", \"'problem',\", \"'test',\", \"'divid',\", \"'communiti',\", \"'creation',\", \"'binari',\", \"'would',\", \"'soon',\", \"'clear',\", \"'posit',\", \"'negat',\", \"'introduct',\", \"'high',\", \"'activ',\", \"'antiretrovir',\", \"'therapi',\", \"'haart',\", \"'number',\", \"'mean',\", \"'posit',\", \"'result',\", \"'chang',\", \"'becam',\", \"'use',\", \"'inform',\", \"'step',\", \"'toward',\", \"'longterm',\", \"'health9',\", \"'number',\", \"'although',\", \"'worldwid',\", \"'number',\", \"'percent',\", \"'peopl',\", \"'live',\", \"'hiv',\", \"'access',\", \"'treatment',\", \"'usher',\", \"'treatment',\", \"'prevent',\", \"'tasp',\", \"'strategi',\", \"'reduc',\", \"'risk',\", \"'transmiss',\", \"'medic',\", \"'peopl',\", \"'live',\", \"'without',\", \"'hiv',\", \"'hiv',\", \"'peopl',\", \"'tasp',\", \"'posteposur',\", \"'prophylai',\", \"'pep',\", \"'preeposur',\", \"'prophylai',\", \"'prep',\", \"'regimen',\", \"'hiv',\", \"'med',\", \"'taken',\", \"'possibl',\", \"'eposur',\", \"'work',\", \"'prevent',\", \"'virus',\", \"'take',\", \"'hold',\", \"'bodi',\", \"'hiv+',\", \"'peopl',\", \"'tasp',\", \"'refer',\", \"'pharmaceut',\", \"'treatment',\", \"'suppress',\", \"'one',\", \"'viral',\", \"'load',\", \"'undetect',\", \"'level',\", \"'thus',\", \"'make',\", \"'transmiss',\", \"'imposs',\", \"'undetect',\", \"'status',\", \"'transform',\", \"'surveil',\", \"'peopl',\", \"'live',\", \"'hiv',\", \"'tasp',\", \"'peopl',\", \"'virus',\", \"'would',\", \"'talk',\", \"'doctor',\", \"'poz',\", \"'folk',\", \"'love',\", \"'one',\", \"'tcell',\", \"'cd4',\", \"'count',\", \"'measur',\", \"'bodi',\", \"'capac',\", \"'fight',\", \"'infect',\", \"'face',\", \"'undetect',\", \"'tcell',\", \"'cd4s',\", \"'replac',\", \"'talk',\", \"'viral',\", \"'load',\", \"'metric',\", \"'potenti',\", \"'transmiss',\", \"'higher',\", \"'viral',\", \"'load',\", \"'transmitt',\", \"'virus',\", \"'discuss',\", \"'health',\", \"'replac',\", \"'monitor',\", \"'metric',\", \"'communic',\", \"'tasp',\", \"'liber',\", \"'peopl',\", \"'live',\", \"'hiv',\", \"'provid',\", \"'sens',\", \"'agenc',\", \"'instead',\", \"'becom',\", \"'burdensom',\", \"'imper',\", \"'begin',\", \"'posit',\", \"'test',\", \"'result',\", \"'tasp',\", \"'lead',\", \"'surveil',\", \"'call',\", \"'adher',\", \"'frame',\", \"'peopl',\", \"'live',\", \"'hiv',\", \"'diseas',\", \"'vector',\", \"'treat',\", \"'sake',\", \"'good',\", \"'public',\", \"'public',\", \"'seem',\", \"'belong',\", \"'tasp',\", \"'harken',\", \"'back',\", \"'earli',\", \"'day',\", \"'epidem',\", \"'public',\", \"'opinion',\", \"'divid',\", \"'peopl',\", \"'live',\", \"'hiv',\", \"'categori',\", \"'innoc',\", \"'guilti',\", \"'hemophiliac',\", \"'children',\", \"'white',\", \"'women',\", \"'got',\", \"'virus',\", \"'husband',\", \"'innoc',\", \"'gay',\", \"'drug',\", \"'user',\", \"'peopl',\", \"'color',\", \"'lurch',\", \"'misguid',\", \"'progress',\", \"'peopl',\", \"'live',\", \"'hiv',\", \"'achiev',\", \"'undetect',\", \"'status',\", \"'ad',\", \"'innoc',\", \"'side10',\", \"'number',\", \"'everyon',\", \"'hiv',\", \"'becom',\", \"'undetect',\", \"'due',\", \"'differ',\", \"'individu',\", \"'reaction',\", \"'medic',\", \"'well',\", \"'access',\", \"'hous',\", \"'food',\", \"'secur',\", \"'relat',\", \"'social',\", \"'determin',\", \"'health',\", \"'number',\", \"'hiv',\", \"'stop',\", \"'hivstopswithmeorgni',\", \"'beyond',\", \"'posit',\", \"'negat',\", \"'new',\", \"'binari',\", \"'marker',\", \"'emerg',\", \"'suppress',\", \"'rhetor',\", \"'clear',\", \"'campaign',\", \"'hiv',\", \"'stop',\", \"'stigmat',\", \"'slogan',\", \"'mask',\", \"'empow',\", \"'mantra',\", \"'thing',\", \"'prevent',\", \"'end',\", \"'aid',\", \"'peopl',\", \"'live',\", \"'hiv',\", \"'prehaart',\", \"'pretasp',\", \"'world',\", \"'peopl',\", \"'avoid',\", \"'hiv',\", \"'test',\", \"'sens',\", \"'communiti',\", \"'lack',\", \"'treatment',\", \"'peopl',\", \"'avoid',\", \"'test',\", \"'stigma',\", \"'lack',\", \"'communiti',\", \"'cours',\", \"'crimin',\", \"'us',\", \"'communiti',\", \"'hiv',\", \"'imprison',\", \"'endem',\", \"'popular',\", \"'slogan',\", \"'take',\", \"'test',\", \"'risk',\", \"'arrest',\", \"'current',\", \"'number',\", \"'state',\", \"'law',\", \"'result',\", \"'arrest',\", \"'specif',\", \"'target',\", \"'peopl',\", \"'live',\", \"'hiv12',\", \"'crimin',\", \"'behavior',\", \"'includ',\", \"'nondisclosur',\", \"'hiv',\", \"'status',\", \"'se',\", \"'pregnanc',\", \"'one',\", \"'case',\", \"'sneez',\", \"'law',\", \"'harm',\", \"'peopl',\", \"'live',\", \"'hiv',\", \"'case',\", \"'stem',\", \"'arrest',\", \"'due',\", \"'law',\", \"'even',\", \"'take',\", \"'consider',\", \"'risk',\", \"'transmiss',\", \"'whether',\", \"'transmiss',\", \"'occur',\", \"'whether',\", \"'transmiss',\", \"'trace',\", \"'person',\", \"'charg',\", \"'neither',\", \"'someon',\", \"'possibl',\", \"'undetect',\", \"'status',\", \"'advent',\", \"'pep',\", \"'prep',\", \"'consid',\", \"'case',\", \"'hiv',\", \"'crimin',\", \"'part',\", \"'law',\", \"'author',\", \"'polic',\", \"'peopl',\", \"'live',\", \"'hiv',\", \"'alreadi',\", \"'crimin',\", \"'eampl',\", \"'se',\", \"'worker',\", \"'hiv',\", \"'pick',\", \"'solicit',\", \"'charg',\", \"'hiv',\", \"'nondisclosur',\", \"'often',\", \"'added13',\", \"'number',\", \"'see',\", \"'william',\", \"'institut',\", \"'report',\", \"'hiv',\", \"'crimin',\", \"'california',\", \"'penal',\", \"'implic',\", \"'peopl',\", \"'live',\", \"'hivaid',\", \"'keep',\", \"'rhetor',\", \"'test',\", \"'notion',\", \"'person',\", \"'live',\", \"'hiv',\", \"'biohazard',\", \"'threat',\", \"'quantifi',\", \"'surveil',\", \"'underpin',\", \"'logic',\", \"'hiv',\", \"'crimin',\", \"'come',\", \"'surpris',\", \"'hivcrimin',\", \"'law',\", \"'begin',\", \"'draft',\", \"'precis',\", \"'hiv',\", \"'test',\", \"'introduc',\", \"'today',\", \"'usbas',\", \"'movement',\", \"'led',\", \"'peopl',\", \"'live',\", \"'hiv',\", \"'end',\", \"'law',\", \"'hiv',\", \"'crimin',\", \"'mani',\", \"'way',\", \"'folk',\", \"'fight',\", \"'start',\", \"'scratch',\", \"'sinc',\", \"'histori',\", \"'resist',\", \"'hiv',\", \"'crimin',\", \"'often',\", \"'tie',\", \"'resist',\", \"'hiv',\", \"'test',\", \"'eras',\", \"'summer',\", \"'hiv',\", \"'crime',\", \"'train',\", \"'larg',\", \"'gather',\", \"'anticrimin',\", \"'activist',\", \"'met',\", \"'second',\", \"'time',\", \"'crimin',\", \"'activist',\", \"'live',\", \"'hiv',\", \"'share',\", \"'person',\", \"'stori',\", \"'strategi',\", \"'repeal',\", \"'law',\", \"'success',\", \"'state',\", \"'hiv',\", \"'crimin',\", \"'law',\", \"'say',\", \"'within',\", \"'movement',\", \"'modern',\", \"'less',\", \"'harm',\", \"'similar',\", \"'vein',\", \"'number',\", \"'anonym',\", \"'group',\", \"'activist',\", \"'creat',\", \"'onlin',\", \"'guid',\", \"'call',\", \"'se',\", \"'polic',\", \"'state',\", \"'analyz',\", \"'notion',\", \"'take',\", \"'test',\", \"'risk',\", \"'arrest',\", \"'even',\", \"'without',\", \"'test',\", \"'wrote',\", \"'person',\", \"'could',\", \"'still',\", \"'charg',\", \"'particip',\", \"'activ',\", \"'deem',\", \"'highrisk',\", \"'hiv',\", \"'transmiss',\", \"'instead',\", \"'delay',\", \"'test',\", \"'suggest',\", \"'stay',\", \"'radar',\", \"'much',\", \"'possibl',\", \"'get',\", \"'test',\", \"'without',\", \"'give',\", \"'legal',\", \"'name',\", \"'clear',\", \"'health',\", \"'care',\", \"'provid',\", \"'seek',\", \"'support',\", \"'surveillancenumb',\", \"'number',\", \"'atlanta',\", \"'gradi',\", \"'hospit',\", \"'releas',\", \"'result',\", \"'optout',\", \"'hiv',\", \"'test',\", \"'initi',\", \"'test',\", \"'incom',\", \"'emerg',\", \"'room',\", \"'patient',\", \"'hiv',\", \"'around',\", \"'half',\", \"'peopl',\", \"'test',\", \"'posit',\", \"'mani',\", \"'number',\", \"'number',\", \"'week',\", \"'also',\", \"'given',\", \"'aid',\", \"'diagnosi',\", \"'mean',\", \"'live',\", \"'untreat',\", \"'hiv',\", \"'long',\", \"'progress',\", \"'near',\", \"'intract',\", \"'state',\", \"'make',\", \"'posit',\", \"'health',\", \"'outcom',\", \"'harder',\", \"'achiev',\", \"'definit',\", \"'eplan',\", \"'folk',\", \"'get',\", \"'test',\", \"'earlier',\", \"'media',\", \"'analysi',\", \"'gradi',\", \"'identifi',\", \"'hiv',\", \"'stigma',\", \"'lack',\", \"'insur',\", \"'histor',\", \"'ongo',\", \"'medic',\", \"'mistreat',\", \"'black',\", \"'peopl',\", \"'potenti',\", \"'reason',\", \"'predict',\", \"'coverag',\", \"'call',\", \"'test',\", \"'site',\", \"'think',\", \"'access',\", \"'test',\", \"'avail',\", \"'new',\", \"'infect',\", \"'would',\", \"'decreas',\", \"'taspinform',\", \"'reason',\", \"'necessarili',\", \"'accur',\", \"'ask',\", \"'anyon',\", \"'test',\", \"'area',\", \"'larg',\", \"'number',\", \"'peopl',\", \"'live',\", \"'hiv',\", \"'tell',\", \"'communiti',\", \"'actual',\", \"'overtest',\", \"'writer',\", \"'activist',\", \"'atlanta',\", \"'nativ',\", \"'charl',\", \"'stephen',\", \"'central',\", \"'clinic',\", \"'repres',\", \"'invest',\", \"'resourc',\", \"'emerg',\", \"'room',\", \"'set',\", \"'larg',\", \"'healthcar',\", \"'institut',\", \"'often',\", \"'cost',\", \"'communiti',\", \"'organ',\", \"'communiti',\", \"'drivenapproach',\", \"'leadership',\", \"'put',\", \"'us',\", \"'path',\", \"'health',\", \"'equitynumb',\", \"'number',\", \"'email',\", \"'interview',\", \"'stephen',\", \"'august',\", \"'number',\", \"'number',\", \"'ensur',\", \"'posit',\", \"'health',\", \"'outcom',\", \"'stephen',\", \"'argu',\", \"'mean',\", \"'replac',\", \"'fear',\", \"'empower',\", \"'support',\", \"'similar',\", \"'new',\", \"'york',\", \"'citybas',\", \"'collect',\", \"'would',\", \"'hiv',\", \"'doula',\", \"'found',\", \"'member',\", \"'eplor',\", \"'aid',\", \"'respons',\", \"'repriorit',\", \"'communal',\", \"'test',\", \"'central',\", \"'convers',\", \"'especi',\", \"'trauma',\", \"'may',\", \"'come',\", \"'test',\", \"'eperi',\", \"'live',\", \"'hiv',\", \"'begin',\", \"'long',\", \"'result',\", \"'member',\", \"'martez',\", \"'smith',\", \"'recal',\", \"'watch',\", \"'bet',\", \"'kid',\", \"'three',\", \"'men',\", \"'spoke',\", \"'live',\", \"'hiv',\", \"'includ',\", \"'young',\", \"'flamboy',\", \"'guy',\", \"'that',\", \"'smith',\", \"'rememb',\", \"'say',\", \"'year',\", \"'later',\", \"'smith',\", \"'becam',\", \"'hiv',\", \"'tester',\", \"'give',\", \"'first',\", \"'posit',\", \"'result',\", \"'someon',\", \"'thought',\", \"'damn',\", \"'three',\", \"'month',\", \"'later',\", \"'test',\", \"'posit',\", \"'part',\", \"'doula',\", \"'collect',\", \"'work',\", \"'ball',\", \"'communiti',\", \"'bring',\", \"'awar',\", \"'folk',\", \"'communiti',\", \"'hiv',\", \"'preval',\", \"'test',\", \"'often',\", \"'often',\", \"'offer',\", \"'new',\", \"'inform',\", \"'may',\", \"'confirm',\", \"'alreadi',\", \"'assumed16',\", \"'regist',\", \"'martez',\", \"'smith',\", \"'princ',\", \"'harri',\", \"'eperi',\", \"'test',\", \"'similar',\", \"'royal',\", \"'pr',\", \"'machin',\", \"'probabl',\", \"'felt',\", \"'certain',\", \"'result',\", \"'would',\", \"'come',\", \"'back',\", \"'negat',\", \"'smith',\", \"'knew',\", \"'might',\", \"'posit',\", \"'test',\", \"'alon',\", \"'care',\", \"'problem',\", \"'solut',\", \"'moment',\", \"'transit',\", \"'result',\", \"'continu',\", \"'support',\", \"'control',\", \"'surveil',\", \"'crimin',\", \"'replac',\", \"'care',\", \"'support',\", \"'communiti',\", \"'test',\", \"'remain',\", \"'risk',\", \"'factor',\", \"'peopl',\", \"'live',\", \"'hiv']\"]\n"
     ]
    }
   ],
   "source": [
    "print(article.split())"
   ]
  },
  {
   "cell_type": "code",
   "execution_count": 6,
   "metadata": {},
   "outputs": [
    {
     "name": "stdout",
     "output_type": "stream",
     "text": [
      "[\"'+',\", \"'+']\", \"'++',\", \"'++']\", \"'+++',\", \"'+++']\", \"'++++',\", \"'+++++',\", \"'+++++']\", \"'++++++',\", \"'+++++++',\", \"'+++++++']\", \"'++++++++',\", \"'+++++++++',\", \"'++++++++++',\", \"'+++++++++++',\", \"'+++++++++++']\", \"'++++++++++++',\", \"'++++++++++++']\", \"'+++++++++++++',\", \"'+++++++++++++']\", \"'++++++++++++++',\", \"'+++++++++++++++',\", \"'+++++++++++++++']\", \"'++++++++++++++++',\", \"'+++++++++++++++++',\", \"'++++++++++++++++++',\", \"'+++++++++++++++++++',\", \"'++++++++++++++++++++',\", \"'++++++++++++++++++++++',\", \"'+++++++++++++++++++++++',\", \"'++++++++++++++++++++++++',\", \"'+++++++++++++++++++++++++',\", \"'+++++++++++++++++++++++++++']\", \"'++++++++++++++++++++++++++++',\", \"'+++++++++++++++++++++++++++++',\", \"'++++++++++++++++++++++++++++++',\", \"'+++++++++++++++++++++++++++++++',\", \"'++++++++++++++++++++++++++++++++',\", \"'+++++++++++++++++++++++++++++++++',\", \"'+++++++++++++++++++++++++++++++++++',\", \"'++++++++++++++++++++++++++++++++++++',\", \"'++++++++++++++++++++++++++++++++++++++++',\", \"'+++++++++++++++++++++++++++++++++++++++++++',\", \"'+++++++++++++++++++++++++++++++++++++++++++++',\", \"'+++++++++++++++++++++++++++++++++++++++++++++++',\", \"'++++++++++++++++++++++++++++++++++++++++++++++++',\", \"'+++++++++++++++++++++++++++++++++++++++++++++++++',\", \"'++++++++++++++++++++++++++++++++++++++++++++++++++',\", \"'+++++++++++++++++++++++++++++++++++++++++++++++++++',\"]\n"
     ]
    }
   ],
   "source": [
    "#print the first 50 unique words\n",
    "print(list(unique_words)[:50])"
   ]
  },
  {
   "cell_type": "code",
   "execution_count": 5,
   "metadata": {},
   "outputs": [],
   "source": [
    "#check for duplicates in the list of unique words\n",
    "unique_words = list(unique_words)\n",
    "unique_words.sort()\n",
    "for i in range(len(unique_words)-1):\n",
    "    if unique_words[i] == unique_words[i+1]:\n",
    "        print('duplicate found')"
   ]
  },
  {
   "cell_type": "code",
   "execution_count": 1,
   "metadata": {},
   "outputs": [
    {
     "ename": "NameError",
     "evalue": "name 'df' is not defined",
     "output_type": "error",
     "traceback": [
      "\u001b[1;31m---------------------------------------------------------------------------\u001b[0m",
      "\u001b[1;31mNameError\u001b[0m                                 Traceback (most recent call last)",
      "Cell \u001b[1;32mIn[1], line 3\u001b[0m\n\u001b[0;32m      1\u001b[0m \u001b[39m#given df['content'] find the number of unique words for all articles\u001b[39;00m\n\u001b[0;32m      2\u001b[0m unique_words \u001b[39m=\u001b[39m \u001b[39mset\u001b[39m()\n\u001b[1;32m----> 3\u001b[0m \u001b[39mfor\u001b[39;00m article \u001b[39min\u001b[39;00m df[\u001b[39m'\u001b[39m\u001b[39mcontent\u001b[39m\u001b[39m'\u001b[39m]:\n\u001b[0;32m      4\u001b[0m     unique_words\u001b[39m.\u001b[39mupdate(article\u001b[39m.\u001b[39msplit())\n\u001b[0;32m      5\u001b[0m \u001b[39mprint\u001b[39m(\u001b[39mlen\u001b[39m(unique_words))\n",
      "\u001b[1;31mNameError\u001b[0m: name 'df' is not defined"
     ]
    }
   ],
   "source": [
    "\n",
    "\n",
    "#given df['content'] find the number of total words for all articles\n",
    "total_words = 0\n",
    "for article in df['content']:\n",
    "    total_words += len(article.split())\n",
    "print(total_words)"
   ]
  }
 ],
 "metadata": {
  "kernelspec": {
   "display_name": "Data_Science",
   "language": "python",
   "name": "python3"
  },
  "language_info": {
   "codemirror_mode": {
    "name": "ipython",
    "version": 3
   },
   "file_extension": ".py",
   "mimetype": "text/x-python",
   "name": "python",
   "nbconvert_exporter": "python",
   "pygments_lexer": "ipython3",
   "version": "3.11.0"
  },
  "orig_nbformat": 4,
  "vscode": {
   "interpreter": {
    "hash": "83c6279ee006869d81a109d8712126c2f0ccc537341e44231d602d487a0c1fad"
   }
  }
 },
 "nbformat": 4,
 "nbformat_minor": 2
}
